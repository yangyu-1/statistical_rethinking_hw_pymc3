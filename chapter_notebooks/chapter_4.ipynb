{
 "cells": [
  {
   "cell_type": "code",
   "execution_count": 1,
   "metadata": {},
   "outputs": [],
   "source": [
    "%matplotlib inline\n",
    "import pymc3 as pm\n",
    "import numpy as np\n",
    "import pandas as pd\n",
    "from scipy import stats\n",
    "from scipy.interpolate import griddata\n",
    "import matplotlib.pyplot as plt\n",
    "\n",
    "%config InlineBackend.figure_format = 'retina'\n",
    "plt.style.use(['seaborn-colorblind', 'seaborn-darkgrid'])"
   ]
  },
  {
   "cell_type": "code",
   "execution_count": 11,
   "metadata": {},
   "outputs": [
    {
     "data": {
      "text/plain": [
       "(array([ 1.,  0.,  1.,  0.,  1.,  4.,  4.,  4.,  7.,  9.,  7., 13., 10.,\n",
       "        22., 16., 24., 24., 25., 35., 34., 41., 31., 45., 52., 46., 67.,\n",
       "        64., 55., 40., 32., 33., 33., 40., 20., 22., 31., 16.,  9., 11.,\n",
       "        12., 18.,  6.,  9., 10.,  5.,  3.,  1.,  2.,  4.,  1.]),\n",
       " array([-35.72381098, -34.33709832, -32.95038566, -31.563673  ,\n",
       "        -30.17696034, -28.79024769, -27.40353503, -26.01682237,\n",
       "        -24.63010971, -23.24339706, -21.8566844 , -20.46997174,\n",
       "        -19.08325908, -17.69654642, -16.30983377, -14.92312111,\n",
       "        -13.53640845, -12.14969579, -10.76298314,  -9.37627048,\n",
       "         -7.98955782,  -6.60284516,  -5.2161325 ,  -3.82941985,\n",
       "         -2.44270719,  -1.05599453,   0.33071813,   1.71743078,\n",
       "          3.10414344,   4.4908561 ,   5.87756876,   7.26428142,\n",
       "          8.65099407,  10.03770673,  11.42441939,  12.81113205,\n",
       "         14.1978447 ,  15.58455736,  16.97127002,  18.35798268,\n",
       "         19.74469534,  21.13140799,  22.51812065,  23.90483331,\n",
       "         25.29154597,  26.67825862,  28.06497128,  29.45168394,\n",
       "         30.8383966 ,  32.22510925,  33.61182191]),\n",
       " <a list of 1 Patch objects>)"
      ]
     },
     "execution_count": 11,
     "metadata": {},
     "output_type": "execute_result"
    },
    {
     "data": {
      "image/png": "[encoded data removed]",
      "text/plain": [
       "<Figure size 576x288 with 3 Axes>"
      ]
     },
     "metadata": {
      "image/png": {
       "height": 247,
       "width": 475
      }
     },
     "output_type": "display_data"
    }
   ],
   "source": [
    "# 4M1\n",
    "# Simulating priors\n",
    "mu_samples = np.random.normal(0, 10, size=1000)\n",
    "sigma_samples = np.random.uniform(0.0,10, size=1000)\n",
    "y = np.random.normal(mu_samples, sigma_samples)\n",
    "\n",
    "_, axes = plt.subplots(1,3, figsize=(8,4))\n",
    "axes[0].hist(mu_samples, histtype='stepfilled', bins=50)\n",
    "axes[1].hist(sigma_samples, histtype='stepfilled', bins=50)\n",
    "axes[2].hist(y, histtype='stepfilled', bins=50)"
   ]
  },
  {
   "cell_type": "code",
   "execution_count": 48,
   "metadata": {},
   "outputs": [
    {
     "name": "stdout",
     "output_type": "stream",
     "text": [
      "    height     weight   age  male   weight_c\n",
      "0  151.765  47.825606  63.0     1   2.835121\n",
      "1  139.700  36.485807  63.0     0  -8.504679\n",
      "2  136.525  31.864838  65.0     0 -13.125648\n",
      "3  156.845  53.041915  41.0     1   8.051429\n",
      "4  145.415  41.276872  51.0     0  -3.713614\n",
      "   individual  weight\n",
      "0           1   46.95\n",
      "1           2   43.72\n",
      "2           3   64.78\n",
      "3           4   32.59\n",
      "4           5   54.63\n"
     ]
    }
   ],
   "source": [
    "# 4H1\n",
    "\n",
    "individual = list(range(1, 6))\n",
    "weight = (46.95, 43.72, 64.78, 32.59, 54.63)\n",
    "weight_df=pd.DataFrame({\n",
    "    'individual':individual,\n",
    "    'weight':weight,\n",
    "})\n",
    "d = pd.read_csv('../Data/Howell1.csv', sep=';', header=0)\n",
    "d = d[d.age >= 18]\n",
    "d['weight_c'] = d.weight - d.weight.mean() \n",
    "print(d.head())\n",
    "print(weight_df.head())"
   ]
  },
  {
   "cell_type": "code",
   "execution_count": 71,
   "metadata": {
    "scrolled": false
   },
   "outputs": [
    {
     "name": "stderr",
     "output_type": "stream",
     "text": [
      "Auto-assigning NUTS sampler...\n",
      "Initializing NUTS using jitter+adapt_diag...\n",
      "Multiprocess sampling (2 chains in 2 jobs)\n",
      "NUTS: [sigma, beta, alpha]\n",
      "Sampling 2 chains: 100%|███████████████████████████████████████████████████████| 4000/4000 [00:08<00:00, 313.50draws/s]\n"
     ]
    }
   ],
   "source": [
    "with pm.Model() as m_4h1:\n",
    "    alpha = pm.Normal('alpha',mu=140,sd=30)\n",
    "    beta = pm.Normal('beta',mu=0,sd=10)\n",
    "    # mu=alpha+beta*d.weight_c\n",
    "    mu = pm.Deterministic('mu', alpha + beta * d.weight)\n",
    "    sigma=pm.Uniform('sigma',lower=0,upper=50)\n",
    "    height=pm.Normal('height',mu=mu,sd=sigma,observed=d.height)\n",
    "    trace_4h1=pm.sample(1000,tune=1000)\n",
    "    \n",
    "# Questions\n",
    "# What is alpha? when centered, it is weight at 0, but what is it when it is not centered?\n",
    "# What is the sigma in Alpha? What is the Sigma in the formula?\n",
    "# How do I determine the mu and sd for Beta?\n",
    "# What is the right way to use the model for prediction, do we need to sample from posterior for the new inputs?\n",
    "# sample_posterior_predictive()?\n"
   ]
  },
  {
   "cell_type": "code",
   "execution_count": 72,
   "metadata": {
    "scrolled": true
   },
   "outputs": [
    {
     "data": {
      "text/html": [
       "<div>\n",
       "<style scoped>\n",
       "    .dataframe tbody tr th:only-of-type {\n",
       "        vertical-align: middle;\n",
       "    }\n",
       "\n",
       "    .dataframe tbody tr th {\n",
       "        vertical-align: top;\n",
       "    }\n",
       "\n",
       "    .dataframe thead th {\n",
       "        text-align: right;\n",
       "    }\n",
       "</style>\n",
       "<table border=\"1\" class=\"dataframe\">\n",
       "  <thead>\n",
       "    <tr style=\"text-align: right;\">\n",
       "      <th></th>\n",
       "      <th>mean</th>\n",
       "      <th>sd</th>\n",
       "      <th>mc_error</th>\n",
       "      <th>hpd_5.5</th>\n",
       "      <th>hpd_94.5</th>\n",
       "      <th>n_eff</th>\n",
       "      <th>Rhat</th>\n",
       "    </tr>\n",
       "  </thead>\n",
       "  <tbody>\n",
       "    <tr>\n",
       "      <th>alpha</th>\n",
       "      <td>114.10</td>\n",
       "      <td>1.89</td>\n",
       "      <td>0.07</td>\n",
       "      <td>111.25</td>\n",
       "      <td>117.12</td>\n",
       "      <td>787.88</td>\n",
       "      <td>1.0</td>\n",
       "    </tr>\n",
       "    <tr>\n",
       "      <th>beta</th>\n",
       "      <td>0.90</td>\n",
       "      <td>0.04</td>\n",
       "      <td>0.00</td>\n",
       "      <td>0.83</td>\n",
       "      <td>0.96</td>\n",
       "      <td>804.15</td>\n",
       "      <td>1.0</td>\n",
       "    </tr>\n",
       "    <tr>\n",
       "      <th>sigma</th>\n",
       "      <td>5.11</td>\n",
       "      <td>0.20</td>\n",
       "      <td>0.01</td>\n",
       "      <td>4.76</td>\n",
       "      <td>5.40</td>\n",
       "      <td>748.69</td>\n",
       "      <td>1.0</td>\n",
       "    </tr>\n",
       "  </tbody>\n",
       "</table>\n",
       "</div>"
      ],
      "text/plain": [
       "         mean    sd  mc_error  hpd_5.5  hpd_94.5   n_eff  Rhat\n",
       "alpha  114.10  1.89      0.07   111.25    117.12  787.88   1.0\n",
       "beta     0.90  0.04      0.00     0.83      0.96  804.15   1.0\n",
       "sigma    5.11  0.20      0.01     4.76      5.40  748.69   1.0"
      ]
     },
     "execution_count": 72,
     "metadata": {},
     "output_type": "execute_result"
    }
   ],
   "source": [
    "pm.summary(trace_4h1, alpha=.11,varnames=['alpha','beta','sigma']).round(2)"
   ]
  },
  {
   "cell_type": "code",
   "execution_count": 73,
   "metadata": {
    "scrolled": true
   },
   "outputs": [],
   "source": [
    "def f(x):\n",
    "    y=trace_4h1['alpha'].mean()+trace_4h1['beta'].mean()*x\n",
    "    return y\n",
    "def f_min(x):\n",
    "    y=pm.hpd(trace_4h1['alpha'],0.11)[0]+pm.hpd(trace_4h1['beta'],0.11)[0]*x\n",
    "    return y\n",
    "\n",
    "def f_max(x):\n",
    "    y=pm.hpd(trace_4h1['alpha'],0.11)[1]+pm.hpd(trace_4h1['beta'],0.11)[1]*x\n",
    "    return y\n",
    "\n",
    "weight_df['height'] = weight_df['weight'].apply(f)\n",
    "weight_df['height_5.5'] = weight_df['weight'].apply(f_min)\n",
    "weight_df['height_94.5'] = weight_df['weight'].apply(f_max)"
   ]
  },
  {
   "cell_type": "code",
   "execution_count": 74,
   "metadata": {},
   "outputs": [
    {
     "data": {
      "text/html": [
       "<div>\n",
       "<style scoped>\n",
       "    .dataframe tbody tr th:only-of-type {\n",
       "        vertical-align: middle;\n",
       "    }\n",
       "\n",
       "    .dataframe tbody tr th {\n",
       "        vertical-align: top;\n",
       "    }\n",
       "\n",
       "    .dataframe thead th {\n",
       "        text-align: right;\n",
       "    }\n",
       "</style>\n",
       "<table border=\"1\" class=\"dataframe\">\n",
       "  <thead>\n",
       "    <tr style=\"text-align: right;\">\n",
       "      <th></th>\n",
       "      <th>individual</th>\n",
       "      <th>weight</th>\n",
       "      <th>height</th>\n",
       "      <th>height_5.5</th>\n",
       "      <th>height_94.5</th>\n",
       "    </tr>\n",
       "  </thead>\n",
       "  <tbody>\n",
       "    <tr>\n",
       "      <th>0</th>\n",
       "      <td>1</td>\n",
       "      <td>46.95</td>\n",
       "      <td>156.362889</td>\n",
       "      <td>150.431053</td>\n",
       "      <td>162.355759</td>\n",
       "    </tr>\n",
       "    <tr>\n",
       "      <th>1</th>\n",
       "      <td>2</td>\n",
       "      <td>43.72</td>\n",
       "      <td>153.455338</td>\n",
       "      <td>147.735811</td>\n",
       "      <td>159.243657</td>\n",
       "    </tr>\n",
       "    <tr>\n",
       "      <th>2</th>\n",
       "      <td>3</td>\n",
       "      <td>64.78</td>\n",
       "      <td>172.412930</td>\n",
       "      <td>165.309122</td>\n",
       "      <td>179.534942</td>\n",
       "    </tr>\n",
       "    <tr>\n",
       "      <th>3</th>\n",
       "      <td>4</td>\n",
       "      <td>32.59</td>\n",
       "      <td>143.436440</td>\n",
       "      <td>138.448491</td>\n",
       "      <td>148.519916</td>\n",
       "    </tr>\n",
       "    <tr>\n",
       "      <th>4</th>\n",
       "      <td>5</td>\n",
       "      <td>54.63</td>\n",
       "      <td>163.276199</td>\n",
       "      <td>156.839554</td>\n",
       "      <td>169.755429</td>\n",
       "    </tr>\n",
       "  </tbody>\n",
       "</table>\n",
       "</div>"
      ],
      "text/plain": [
       "   individual  weight      height  height_5.5  height_94.5\n",
       "0           1   46.95  156.362889  150.431053   162.355759\n",
       "1           2   43.72  153.455338  147.735811   159.243657\n",
       "2           3   64.78  172.412930  165.309122   179.534942\n",
       "3           4   32.59  143.436440  138.448491   148.519916\n",
       "4           5   54.63  163.276199  156.839554   169.755429"
      ]
     },
     "execution_count": 74,
     "metadata": {},
     "output_type": "execute_result"
    }
   ],
   "source": [
    "weight_df"
   ]
  },
  {
   "cell_type": "code",
   "execution_count": 66,
   "metadata": {},
   "outputs": [
    {
     "data": {
      "text/plain": [
       "array([110.74260708, 117.2044711 ])"
      ]
     },
     "execution_count": 66,
     "metadata": {},
     "output_type": "execute_result"
    }
   ],
   "source": []
  },
  {
   "cell_type": "code",
   "execution_count": 76,
   "metadata": {},
   "outputs": [
    {
     "data": {
      "text/plain": [
       "154.5970926136364"
      ]
     },
     "execution_count": 76,
     "metadata": {},
     "output_type": "execute_result"
    }
   ],
   "source": [
    "d.height.mean()"
   ]
  },
  {
   "cell_type": "code",
   "execution_count": null,
   "metadata": {},
   "outputs": [],
   "source": []
  }
 ],
 "metadata": {
  "kernelspec": {
   "display_name": "Python 3",
   "language": "python",
   "name": "python3"
  },
  "language_info": {
   "codemirror_mode": {
    "name": "ipython",
    "version": 3
   },
   "file_extension": ".py",
   "mimetype": "text/x-python",
   "name": "python",
   "nbconvert_exporter": "python",
   "pygments_lexer": "ipython3",
   "version": "3.6.5"
  }
 },
 "nbformat": 4,
 "nbformat_minor": 2
}
