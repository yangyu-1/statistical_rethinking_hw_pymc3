{
 "cells": [
  {
   "cell_type": "code",
   "execution_count": 2,
   "metadata": {},
   "outputs": [],
   "source": [
    "%matplotlib inline\n",
    "import pymc3 as pm\n",
    "import numpy as np\n",
    "import scipy.stats as stats\n",
    "import matplotlib.pyplot as plt\n",
    "import seaborn as sns; sns.set_palette('colorblind'); sns.set_color_codes()"
   ]
  },
  {
   "cell_type": "code",
   "execution_count": 3,
   "metadata": {},
   "outputs": [],
   "source": [
    "# 3E starting code\n",
    "\n",
    "def posterior_grid_approx(grid_points=100, success=6, tosses=9):\n",
    "    \"\"\"\n",
    "    \"\"\"\n",
    "    # define grid\n",
    "    p_grid = np.linspace(0, 1, grid_points)\n",
    "\n",
    "    # define prior\n",
    "    prior = np.repeat(5, grid_points)  # uniform\n",
    "    #prior = (p_grid >= 0.5).astype(int)  # truncated\n",
    "    #prior = np.exp(- 5 * abs(p_grid - 0.5))  # double exp\n",
    "\n",
    "    # compute likelihood at each point in the grid\n",
    "    likelihood = stats.binom.pmf(success, tosses, p_grid)\n",
    "\n",
    "    # compute product of likelihood and prior\n",
    "    unstd_posterior = likelihood * prior\n",
    "\n",
    "    # standardize the posterior, so it sums to 1\n",
    "    posterior = unstd_posterior / unstd_posterior.sum()\n",
    "    return p_grid, posterior\n",
    "\n",
    "p_grid, posterior = posterior_grid_approx(grid_points=1000, success=6, tosses=9)\n",
    "np.random.seed(100)\n",
    "samples = np.random.choice(p_grid, p=posterior, size=int(1e4), replace=True)"
   ]
  },
  {
   "cell_type": "code",
   "execution_count": 53,
   "metadata": {},
   "outputs": [
    {
     "data": {
      "text/plain": [
       "0.001"
      ]
     },
     "execution_count": 53,
     "metadata": {},
     "output_type": "execute_result"
    }
   ],
   "source": [
    "# 3E1\n",
    "sum( samples < 0.2 ) / 1e4"
   ]
  },
  {
   "cell_type": "code",
   "execution_count": 54,
   "metadata": {},
   "outputs": [
    {
     "data": {
      "text/plain": [
       "0.1209"
      ]
     },
     "execution_count": 54,
     "metadata": {},
     "output_type": "execute_result"
    }
   ],
   "source": [
    "# 3E2\n",
    "sum( samples > 0.8) / 1e4"
   ]
  },
  {
   "cell_type": "code",
   "execution_count": 55,
   "metadata": {},
   "outputs": [
    {
     "data": {
      "text/plain": [
       "0.8781"
      ]
     },
     "execution_count": 55,
     "metadata": {},
     "output_type": "execute_result"
    }
   ],
   "source": [
    "# 3E3\n",
    "sum( (samples > 0.2) & (samples < 0.8)) / 1e4"
   ]
  },
  {
   "cell_type": "code",
   "execution_count": 56,
   "metadata": {},
   "outputs": [
    {
     "data": {
      "text/plain": [
       "0.5155155155155156"
      ]
     },
     "execution_count": 56,
     "metadata": {},
     "output_type": "execute_result"
    }
   ],
   "source": [
    "# 3E4\n",
    "# See page 55\n",
    "np.percentile(samples, 20)"
   ]
  },
  {
   "cell_type": "code",
   "execution_count": 57,
   "metadata": {},
   "outputs": [
    {
     "data": {
      "text/plain": [
       "0.7597597597597597"
      ]
     },
     "execution_count": 57,
     "metadata": {},
     "output_type": "execute_result"
    }
   ],
   "source": [
    "# 3E5\n",
    "np.percentile(samples, 80)"
   ]
  },
  {
   "cell_type": "code",
   "execution_count": 58,
   "metadata": {},
   "outputs": [
    {
     "data": {
      "text/plain": [
       "array([0.5995996 , 0.72672673])"
      ]
     },
     "execution_count": 58,
     "metadata": {},
     "output_type": "execute_result"
    }
   ],
   "source": [
    "# 3E6\n",
    "pm.hpd(samples, alpha=0.66)"
   ]
  },
  {
   "cell_type": "code",
   "execution_count": 64,
   "metadata": {},
   "outputs": [
    {
     "data": {
      "text/plain": [
       "array([0.4984985 , 0.77294294])"
      ]
     },
     "execution_count": 64,
     "metadata": {},
     "output_type": "execute_result"
    }
   ],
   "source": [
    "# 3E7\n",
    "np.percentile(samples, [17, 83])"
   ]
  },
  {
   "cell_type": "code",
   "execution_count": 17,
   "metadata": {},
   "outputs": [],
   "source": [
    "# 3M1\n",
    "p_grid_1, posterior_1 = posterior_grid_approx(grid_points=1000, success=8, tosses=15)"
   ]
  },
  {
   "cell_type": "code",
   "execution_count": 18,
   "metadata": {},
   "outputs": [
    {
     "data": {
      "text/plain": [
       "array([ 0.33433433,  0.72172172])"
      ]
     },
     "execution_count": 18,
     "metadata": {},
     "output_type": "execute_result"
    }
   ],
   "source": [
    "# 3M2\n",
    "samples_1 = np.random.choice(p_grid_1, p=posterior_1, size=int(1e4), replace=True)\n",
    "pm.hpd(samples_1, alpha=0.1)\n"
   ]
  },
  {
   "cell_type": "code",
   "execution_count": 19,
   "metadata": {},
   "outputs": [
    {
     "data": {
      "image/png": "[encoded data removed]",
      "text/plain": [
       "<matplotlib.figure.Figure at 0x111b13080>"
      ]
     },
     "metadata": {},
     "output_type": "display_data"
    }
   ],
   "source": [
    "# 3M3\n",
    "dummy_w = stats.binom.rvs(n=15, p=samples_1)\n",
    "plt.hist(dummy_w, bins=50)\n",
    "plt.xlabel('dummy water count');"
   ]
  },
  {
   "cell_type": "code",
   "execution_count": 20,
   "metadata": {},
   "outputs": [
    {
     "data": {
      "text/plain": [
       "0.14949999999999999"
      ]
     },
     "execution_count": 20,
     "metadata": {},
     "output_type": "execute_result"
    }
   ],
   "source": [
    "sum( dummy_w == 8) / 1e4"
   ]
  },
  {
   "cell_type": "code",
   "execution_count": 28,
   "metadata": {},
   "outputs": [
    {
     "data": {
      "text/plain": [
       "0.1731"
      ]
     },
     "execution_count": 28,
     "metadata": {},
     "output_type": "execute_result"
    }
   ],
   "source": [
    "# 3M4\n",
    "# execute this a few times, you'll see different values due to simulation variance\n",
    "dummy_w = stats.binom.rvs(n=9, p=samples_1)\n",
    "sum( dummy_w == 6) / 1e4"
   ]
  },
  {
   "cell_type": "code",
   "execution_count": 4,
   "metadata": {},
   "outputs": [],
   "source": [
    "# 3H1\n",
    "# 0 is female\n",
    "# 1 is male\n",
    "\n",
    "birth1 = np.array([1,0,0,0,1,1,0,1,0,1,0,0,1,1,0,1,1,0,0,0,1,0,0,0,1,0, 0,0,0,1,1,1,0,1,0,1,1,1,0,1,0,1,1,0,1,0,0,1,1,0,1,0,0,0,0,0,0,0, 1,1,0,1,0,0,1,0,0,0,1,0,0,1,1,1,1,0,1,0,1,1,1,1,1,0,0,1,0,1,1,0,1,0,1,1,1,0,1,1,1,1])\n",
    "birth2 = np.array([0,1,0,1,0,1,1,1,0,0,1,1,1,1,1,0,0,1,1,1,0,0,1,1,1,0,\n",
    "1,1,1,0,1,1,1,0,1,0,0,1,1,1,1,0,0,1,0,1,1,1,1,1,1,1,1,1,1,1,1,1,\n",
    "1,1,1,0,1,1,0,1,1,0,1,1,1,0,0,0,0,0,0,1,0,0,0,1,1,0,0,1,0,0,1,1,\n",
    "0,0,0,1,1,1,0,0,0,0])"
   ]
  },
  {
   "cell_type": "code",
   "execution_count": 13,
   "metadata": {},
   "outputs": [
    {
     "data": {
      "image/png": "[encoded data removed]",
      "text/plain": [
       "<matplotlib.figure.Figure at 0x10d637668>"
      ]
     },
     "metadata": {},
     "output_type": "display_data"
    }
   ],
   "source": [
    "p_grid_3H1, posterior_3H1 = posterior_grid_approx(grid_points=1000, success=111, tosses=200)\n",
    "plt.plot(p_grid_3H1, posterior_3H1)\n",
    "plt.xlabel('probability boys', fontsize=14)\n",
    "plt.ylabel('Density', fontsize=14);"
   ]
  },
  {
   "cell_type": "code",
   "execution_count": 8,
   "metadata": {},
   "outputs": [
    {
     "data": {
      "text/plain": [
       "0.011405452547588308"
      ]
     },
     "execution_count": 8,
     "metadata": {},
     "output_type": "execute_result"
    }
   ],
   "source": [
    "max(posterior_3H1)"
   ]
  },
  {
   "cell_type": "code",
   "execution_count": 10,
   "metadata": {},
   "outputs": [
    {
     "data": {
      "text/plain": [
       "array([ 0.55455455])"
      ]
     },
     "execution_count": 10,
     "metadata": {},
     "output_type": "execute_result"
    }
   ],
   "source": [
    "p_grid_3H1[posterior_3H1 == max(posterior_3H1)]"
   ]
  },
  {
   "cell_type": "code",
   "execution_count": 16,
   "metadata": {},
   "outputs": [
    {
     "data": {
      "text/plain": [
       "array([ 0.53053053,  0.57757758])"
      ]
     },
     "execution_count": 16,
     "metadata": {},
     "output_type": "execute_result"
    }
   ],
   "source": [
    "# 3H2\n",
    "samples_3H1 = np.random.choice(p_grid_3H1, p=posterior_3H1, size=int(1e4), replace=True)\n",
    "pm.hpd(samples_3H1, alpha=0.5)"
   ]
  },
  {
   "cell_type": "code",
   "execution_count": 18,
   "metadata": {},
   "outputs": [
    {
     "data": {
      "text/plain": [
       "array([ 0.5005005 ,  0.61161161])"
      ]
     },
     "execution_count": 18,
     "metadata": {},
     "output_type": "execute_result"
    }
   ],
   "source": [
    "pm.hpd(samples_3H1, alpha=0.11)"
   ]
  },
  {
   "cell_type": "code",
   "execution_count": 19,
   "metadata": {},
   "outputs": [
    {
     "data": {
      "text/plain": [
       "array([ 0.47147147,  0.62262262])"
      ]
     },
     "execution_count": 19,
     "metadata": {},
     "output_type": "execute_result"
    }
   ],
   "source": [
    "pm.hpd(samples_3H1, alpha=0.03)"
   ]
  },
  {
   "cell_type": "code",
   "execution_count": 25,
   "metadata": {},
   "outputs": [
    {
     "data": {
      "text/plain": [
       "118"
      ]
     },
     "execution_count": 25,
     "metadata": {},
     "output_type": "execute_result"
    }
   ],
   "source": [
    "# 3H3\n",
    "dummy_boys = stats.binom.rvs(n=200, p=samples_3H1)\n",
    "dummy_boys[2]"
   ]
  },
  {
   "cell_type": "code",
   "execution_count": 26,
   "metadata": {},
   "outputs": [
    {
     "data": {
      "text/plain": [
       "(array([   1.,    0.,    0.,    1.,    0.,    1.,    0.,    0.,    1.,\n",
       "           0.,    0.,    2.,    4.,    0.,    3.,    3.,    7.,    5.,\n",
       "           0.,    7.,   15.,   16.,    0.,   18.,   22.,   22.,   31.,\n",
       "           0.,   47.,   46.,   59.,    0.,   78.,   96.,  118.,  147.,\n",
       "           0.,  157.,  181.,  191.,    0.,  206.,  236.,  283.,  302.,\n",
       "           0.,  320.,  316.,  354.,    0.,  406.,  383.,  363.,  405.,\n",
       "           0.,  433.,  391.,  372.,  358.,    0.,  372.,  339.,  336.,\n",
       "           0.,  298.,  270.,  277.,  262.,    0.,  217.,  197.,  180.,\n",
       "           0.,  147.,  119.,   93.,  103.,    0.,   83.,   73.,   43.,\n",
       "           0.,   41.,   36.,   28.,   22.,    0.,   19.,    7.,   12.,\n",
       "           0.,    7.,    4.,    1.,    3.,    0.,    3.,    0.,    0.,    1.]),\n",
       " array([  68.  ,   68.78,   69.56,   70.34,   71.12,   71.9 ,   72.68,\n",
       "          73.46,   74.24,   75.02,   75.8 ,   76.58,   77.36,   78.14,\n",
       "          78.92,   79.7 ,   80.48,   81.26,   82.04,   82.82,   83.6 ,\n",
       "          84.38,   85.16,   85.94,   86.72,   87.5 ,   88.28,   89.06,\n",
       "          89.84,   90.62,   91.4 ,   92.18,   92.96,   93.74,   94.52,\n",
       "          95.3 ,   96.08,   96.86,   97.64,   98.42,   99.2 ,   99.98,\n",
       "         100.76,  101.54,  102.32,  103.1 ,  103.88,  104.66,  105.44,\n",
       "         106.22,  107.  ,  107.78,  108.56,  109.34,  110.12,  110.9 ,\n",
       "         111.68,  112.46,  113.24,  114.02,  114.8 ,  115.58,  116.36,\n",
       "         117.14,  117.92,  118.7 ,  119.48,  120.26,  121.04,  121.82,\n",
       "         122.6 ,  123.38,  124.16,  124.94,  125.72,  126.5 ,  127.28,\n",
       "         128.06,  128.84,  129.62,  130.4 ,  131.18,  131.96,  132.74,\n",
       "         133.52,  134.3 ,  135.08,  135.86,  136.64,  137.42,  138.2 ,\n",
       "         138.98,  139.76,  140.54,  141.32,  142.1 ,  142.88,  143.66,\n",
       "         144.44,  145.22,  146.  ]),\n",
       " <a list of 100 Patch objects>)"
      ]
     },
     "execution_count": 26,
     "metadata": {},
     "output_type": "execute_result"
    },
    {
     "data": {
      "image/png": "[encoded data removed]",
      "text/plain": [
       "<matplotlib.figure.Figure at 0x10d88a668>"
      ]
     },
     "metadata": {},
     "output_type": "display_data"
    }
   ],
   "source": [
    "plt.hist(dummy_boys, bins=100, alpha=0.5)"
   ]
  },
  {
   "cell_type": "code",
   "execution_count": 34,
   "metadata": {},
   "outputs": [
    {
     "data": {
      "text/plain": [
       "(array([   1.,    0.,    0.,    1.,    3.,    2.,    0.,    1.,    2.,\n",
       "           5.,    9.,   10.,   11.,    0.,   11.,   17.,   13.,   29.,\n",
       "          27.,    0.,   31.,   43.,   58.,   58.,   55.,   81.,    0.,\n",
       "          92.,  104.,  107.,  123.,  115.,  136.,    0.,  162.,  190.,\n",
       "         196.,  218.,  217.,    0.,  266.,  259.,  276.,  298.,  292.,\n",
       "         283.,    0.,  304.,  344.,  360.,  324.,  304.,  347.,    0.,\n",
       "         327.,  357.,  262.,  309.,  259.,    0.,  267.,  239.,  252.,\n",
       "         208.,  237.,  196.,    0.,  162.,  160.,  120.,  125.,   92.,\n",
       "         118.,    0.,   92.,   87.,   54.,   56.,   43.,    0.,   44.,\n",
       "          28.,   23.,   23.,   21.,   13.,    0.,    8.,    7.,    9.,\n",
       "           6.,    2.,    2.,    0.,    1.,    2.,    0.,    0.,    2.,    2.]),\n",
       " array([  59.  ,   59.85,   60.7 ,   61.55,   62.4 ,   63.25,   64.1 ,\n",
       "          64.95,   65.8 ,   66.65,   67.5 ,   68.35,   69.2 ,   70.05,\n",
       "          70.9 ,   71.75,   72.6 ,   73.45,   74.3 ,   75.15,   76.  ,\n",
       "          76.85,   77.7 ,   78.55,   79.4 ,   80.25,   81.1 ,   81.95,\n",
       "          82.8 ,   83.65,   84.5 ,   85.35,   86.2 ,   87.05,   87.9 ,\n",
       "          88.75,   89.6 ,   90.45,   91.3 ,   92.15,   93.  ,   93.85,\n",
       "          94.7 ,   95.55,   96.4 ,   97.25,   98.1 ,   98.95,   99.8 ,\n",
       "         100.65,  101.5 ,  102.35,  103.2 ,  104.05,  104.9 ,  105.75,\n",
       "         106.6 ,  107.45,  108.3 ,  109.15,  110.  ,  110.85,  111.7 ,\n",
       "         112.55,  113.4 ,  114.25,  115.1 ,  115.95,  116.8 ,  117.65,\n",
       "         118.5 ,  119.35,  120.2 ,  121.05,  121.9 ,  122.75,  123.6 ,\n",
       "         124.45,  125.3 ,  126.15,  127.  ,  127.85,  128.7 ,  129.55,\n",
       "         130.4 ,  131.25,  132.1 ,  132.95,  133.8 ,  134.65,  135.5 ,\n",
       "         136.35,  137.2 ,  138.05,  138.9 ,  139.75,  140.6 ,  141.45,\n",
       "         142.3 ,  143.15,  144.  ]),\n",
       " <a list of 100 Patch objects>)"
      ]
     },
     "execution_count": 34,
     "metadata": {},
     "output_type": "execute_result"
    },
    {
     "data": {
      "image/png": "[encoded data removed]",
      "text/plain": [
       "<matplotlib.figure.Figure at 0x10dae8c18>"
      ]
     },
     "metadata": {},
     "output_type": "display_data"
    }
   ],
   "source": [
    "p_grid_birth1, posterior_birth1 = posterior_grid_approx(grid_points=1000, success=51, tosses=100)\n",
    "samples_birth1 = np.random.choice(p_grid_birth1, p=posterior_birth1, size=int(1e4), replace=True)\n",
    "dummy_birth1 = stats.binom.rvs(n=200, p=samples_birth1)\n",
    "plt.hist(dummy_birth1, bins=100, alpha=0.5)"
   ]
  },
  {
   "cell_type": "code",
   "execution_count": 42,
   "metadata": {},
   "outputs": [
    {
     "data": {
      "text/plain": [
       "49"
      ]
     },
     "execution_count": 42,
     "metadata": {},
     "output_type": "execute_result"
    }
   ],
   "source": [
    "# 3H5\n",
    "\n",
    "female_first_indices = np.where(birth1 == 0)\n",
    "len(female_first_indices[0])"
   ]
  },
  {
   "cell_type": "code",
   "execution_count": 46,
   "metadata": {},
   "outputs": [
    {
     "data": {
      "text/plain": [
       "(array([   1.,    0.,    0.,    0.,    1.,    1.,    0.,    1.,    3.,\n",
       "           0.,    1.,    0.,    3.,    2.,    4.,    4.,    3.,    9.,\n",
       "           2.,   10.,    6.,    9.,    0.,   16.,   10.,   17.,   17.,\n",
       "          18.,   21.,   33.,   33.,   38.,   55.,    0.,   55.,   66.,\n",
       "          78.,   76.,   91.,   92.,  103.,  124.,  116.,  127.,    0.,\n",
       "         157.,  159.,  163.,  177.,  195.,  221.,  216.,  235.,  243.,\n",
       "         243.,    0.,  276.,  269.,  326.,  315.,  296.,  281.,  295.,\n",
       "         288.,  289.,  280.,    0.,  316.,  325.,  300.,  280.,  293.,\n",
       "         258.,  233.,  240.,  193.,  184.,    0.,  166.,  176.,  144.,\n",
       "         123.,  105.,   93.,   95.,   78.,   64.,   51.,    0.,   24.,\n",
       "          19.,   22.,   12.,   10.,   11.,    6.,    4.,    0.,    4.,    1.]),\n",
       " array([ 101.  ,  101.91,  102.82,  103.73,  104.64,  105.55,  106.46,\n",
       "         107.37,  108.28,  109.19,  110.1 ,  111.01,  111.92,  112.83,\n",
       "         113.74,  114.65,  115.56,  116.47,  117.38,  118.29,  119.2 ,\n",
       "         120.11,  121.02,  121.93,  122.84,  123.75,  124.66,  125.57,\n",
       "         126.48,  127.39,  128.3 ,  129.21,  130.12,  131.03,  131.94,\n",
       "         132.85,  133.76,  134.67,  135.58,  136.49,  137.4 ,  138.31,\n",
       "         139.22,  140.13,  141.04,  141.95,  142.86,  143.77,  144.68,\n",
       "         145.59,  146.5 ,  147.41,  148.32,  149.23,  150.14,  151.05,\n",
       "         151.96,  152.87,  153.78,  154.69,  155.6 ,  156.51,  157.42,\n",
       "         158.33,  159.24,  160.15,  161.06,  161.97,  162.88,  163.79,\n",
       "         164.7 ,  165.61,  166.52,  167.43,  168.34,  169.25,  170.16,\n",
       "         171.07,  171.98,  172.89,  173.8 ,  174.71,  175.62,  176.53,\n",
       "         177.44,  178.35,  179.26,  180.17,  181.08,  181.99,  182.9 ,\n",
       "         183.81,  184.72,  185.63,  186.54,  187.45,  188.36,  189.27,\n",
       "         190.18,  191.09,  192.  ]),\n",
       " <a list of 100 Patch objects>)"
      ]
     },
     "execution_count": 46,
     "metadata": {},
     "output_type": "execute_result"
    },
    {
     "data": {
      "image/png": "[encoded data removed]",
      "text/plain": [
       "<matplotlib.figure.Figure at 0x10e5e2cc0>"
      ]
     },
     "metadata": {},
     "output_type": "display_data"
    }
   ],
   "source": [
    "\n",
    "birth2[female_first_indices].sum()\n",
    "\n",
    "p_grid_b_after_g, posterior_b_after_g = posterior_grid_approx(grid_points=1000, success=39, tosses=49)\n",
    "samples_b_after_g = np.random.choice(p_grid_b_after_g, p=posterior_b_after_g, size=int(1e4), replace=True)\n",
    "dummy_b_after_g = stats.binom.rvs(n=200, p=samples_b_after_g)\n",
    "plt.hist(dummy_b_after_g, bins=100, alpha=0.5)\n",
    "# where they get this data set...china?"
   ]
  },
  {
   "cell_type": "code",
   "execution_count": null,
   "metadata": {},
   "outputs": [],
   "source": []
  }
 ],
 "metadata": {
  "kernelspec": {
   "display_name": "Python 3",
   "language": "python",
   "name": "python3"
  },
  "language_info": {
   "codemirror_mode": {
    "name": "ipython",
    "version": 3
   },
   "file_extension": ".py",
   "mimetype": "text/x-python",
   "name": "python",
   "nbconvert_exporter": "python",
   "pygments_lexer": "ipython3",
   "version": "3.6.3"
  }
 },
 "nbformat": 4,
 "nbformat_minor": 2
}
